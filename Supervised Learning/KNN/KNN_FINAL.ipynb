{
  "nbformat": 4,
  "nbformat_minor": 0,
  "metadata": {
    "colab": {
      "name": "KNN_FINAL.ipynb",
      "version": "0.3.2",
      "provenance": []
    },
    "kernelspec": {
      "name": "python3",
      "display_name": "Python 3"
    },
    "accelerator": "GPU"
  },
  "cells": [
    {
      "cell_type": "code",
      "metadata": {
        "id": "dTNLh91uBIO3",
        "colab_type": "code",
        "outputId": "b8ad8d77-7701-44d0-ad72-2b3e7463094c",
        "colab": {
          "base_uri": "https://localhost:8080/",
          "height": 218
        }
      },
      "source": [
        "!ln -sf /opt/bin/nvidia-smi /usr/bin/nvidia-smi\n",
        "!pip install gputil\n",
        "!pip install psutil\n",
        "!pip install humanize\n",
        "import psutil\n",
        "import humanize\n",
        "import os\n",
        "import GPUtil as GPU\n",
        "GPUs = GPU.getGPUs()\n",
        "# XXX: only one GPU on Colab and isn’t guaranteed\n",
        "gpu = GPUs[0]\n",
        "def printm():\n",
        " process = psutil.Process(os.getpid())\n",
        " print(\"Gen RAM Free: \" + humanize.naturalsize( psutil.virtual_memory().available ), \" | Proc size: \" + humanize.naturalsize( process.memory_info().rss))\n",
        " print(\"GPU RAM Free: {0:.0f}MB | Used: {1:.0f}MB | Util {2:3.0f}% | Total {3:.0f}MB\".format(gpu.memoryFree, gpu.memoryUsed, gpu.memoryUtil*100, gpu.memoryTotal))\n",
        "printm() "
      ],
      "execution_count": 1,
      "outputs": [
        {
          "output_type": "stream",
          "text": [
            "Collecting gputil\n",
            "  Downloading https://files.pythonhosted.org/packages/ed/0e/5c61eedde9f6c87713e89d794f01e378cfd9565847d4576fa627d758c554/GPUtil-1.4.0.tar.gz\n",
            "Building wheels for collected packages: gputil\n",
            "  Building wheel for gputil (setup.py) ... \u001b[?25l\u001b[?25hdone\n",
            "  Stored in directory: /root/.cache/pip/wheels/3d/77/07/80562de4bb0786e5ea186911a2c831fdd0018bda69beab71fd\n",
            "Successfully built gputil\n",
            "Installing collected packages: gputil\n",
            "Successfully installed gputil-1.4.0\n",
            "Requirement already satisfied: psutil in /usr/local/lib/python3.6/dist-packages (5.4.8)\n",
            "Requirement already satisfied: humanize in /usr/local/lib/python3.6/dist-packages (0.5.1)\n",
            "Gen RAM Free: 12.9 GB  | Proc size: 120.1 MB\n",
            "GPU RAM Free: 15079MB | Used: 0MB | Util   0% | Total 15079MB\n"
          ],
          "name": "stdout"
        }
      ]
    },
    {
      "cell_type": "code",
      "metadata": {
        "id": "eADzuZITBQHx",
        "colab_type": "code",
        "colab": {}
      },
      "source": [
        "!kill -9 -1"
      ],
      "execution_count": 0,
      "outputs": []
    },
    {
      "cell_type": "code",
      "metadata": {
        "id": "eB45aRFABSUy",
        "colab_type": "code",
        "colab": {}
      },
      "source": [
        "import numpy as n\n",
        "import pandas as p"
      ],
      "execution_count": 0,
      "outputs": []
    },
    {
      "cell_type": "code",
      "metadata": {
        "id": "CmAPCnFMBVU5",
        "colab_type": "code",
        "colab": {}
      },
      "source": [
        "from google.colab import files\n",
        "files.upload()"
      ],
      "execution_count": 0,
      "outputs": []
    },
    {
      "cell_type": "code",
      "metadata": {
        "id": "ghSrsQWgBeBZ",
        "colab_type": "code",
        "colab": {
          "base_uri": "https://localhost:8080/",
          "height": 195
        },
        "outputId": "7ed59a4d-9275-4718-d517-1abbbd532621"
      },
      "source": [
        "from scipy.io import arff\n",
        "\n",
        "d = arff.loadarff(\"trainProdSelection.arff\")\n",
        "\n",
        "df = pd.DataFrame(d[0])\n",
        "df.head()"
      ],
      "execution_count": 19,
      "outputs": [
        {
          "output_type": "execute_result",
          "data": {
            "text/html": [
              "<div>\n",
              "<style scoped>\n",
              "    .dataframe tbody tr th:only-of-type {\n",
              "        vertical-align: middle;\n",
              "    }\n",
              "\n",
              "    .dataframe tbody tr th {\n",
              "        vertical-align: top;\n",
              "    }\n",
              "\n",
              "    .dataframe thead th {\n",
              "        text-align: right;\n",
              "    }\n",
              "</style>\n",
              "<table border=\"1\" class=\"dataframe\">\n",
              "  <thead>\n",
              "    <tr style=\"text-align: right;\">\n",
              "      <th></th>\n",
              "      <th>Type</th>\n",
              "      <th>LifeStyle</th>\n",
              "      <th>Vacation</th>\n",
              "      <th>eCredit</th>\n",
              "      <th>salary</th>\n",
              "      <th>property</th>\n",
              "      <th>label</th>\n",
              "    </tr>\n",
              "  </thead>\n",
              "  <tbody>\n",
              "    <tr>\n",
              "      <th>0</th>\n",
              "      <td>b'student'</td>\n",
              "      <td>b'spend&gt;saving'</td>\n",
              "      <td>6.0</td>\n",
              "      <td>40.0</td>\n",
              "      <td>13.62</td>\n",
              "      <td>3.2804</td>\n",
              "      <td>b'C1'</td>\n",
              "    </tr>\n",
              "    <tr>\n",
              "      <th>1</th>\n",
              "      <td>b'student'</td>\n",
              "      <td>b'spend&gt;saving'</td>\n",
              "      <td>11.0</td>\n",
              "      <td>21.0</td>\n",
              "      <td>15.32</td>\n",
              "      <td>2.0232</td>\n",
              "      <td>b'C1'</td>\n",
              "    </tr>\n",
              "    <tr>\n",
              "      <th>2</th>\n",
              "      <td>b'student'</td>\n",
              "      <td>b'spend&gt;saving'</td>\n",
              "      <td>7.0</td>\n",
              "      <td>64.0</td>\n",
              "      <td>16.55</td>\n",
              "      <td>3.1202</td>\n",
              "      <td>b'C1'</td>\n",
              "    </tr>\n",
              "    <tr>\n",
              "      <th>3</th>\n",
              "      <td>b'student'</td>\n",
              "      <td>b'spend&gt;saving'</td>\n",
              "      <td>3.0</td>\n",
              "      <td>47.0</td>\n",
              "      <td>15.71</td>\n",
              "      <td>3.4022</td>\n",
              "      <td>b'C1'</td>\n",
              "    </tr>\n",
              "    <tr>\n",
              "      <th>4</th>\n",
              "      <td>b'student'</td>\n",
              "      <td>b'spend&gt;saving'</td>\n",
              "      <td>15.0</td>\n",
              "      <td>10.0</td>\n",
              "      <td>16.96</td>\n",
              "      <td>2.2825</td>\n",
              "      <td>b'C1'</td>\n",
              "    </tr>\n",
              "  </tbody>\n",
              "</table>\n",
              "</div>"
            ],
            "text/plain": [
              "         Type        LifeStyle  Vacation  eCredit  salary  property  label\n",
              "0  b'student'  b'spend>saving'       6.0     40.0   13.62    3.2804  b'C1'\n",
              "1  b'student'  b'spend>saving'      11.0     21.0   15.32    2.0232  b'C1'\n",
              "2  b'student'  b'spend>saving'       7.0     64.0   16.55    3.1202  b'C1'\n",
              "3  b'student'  b'spend>saving'       3.0     47.0   15.71    3.4022  b'C1'\n",
              "4  b'student'  b'spend>saving'      15.0     10.0   16.96    2.2825  b'C1'"
            ]
          },
          "metadata": {
            "tags": []
          },
          "execution_count": 19
        }
      ]
    },
    {
      "cell_type": "code",
      "metadata": {
        "id": "Gp6MQZN5Bljx",
        "colab_type": "code",
        "outputId": "fde2b9aa-572c-45ca-d9f0-cb24ae98d3af",
        "colab": {
          "base_uri": "https://localhost:8080/",
          "height": 34
        }
      },
      "source": [
        "\n",
        "df.shape"
      ],
      "execution_count": 20,
      "outputs": [
        {
          "output_type": "execute_result",
          "data": {
            "text/plain": [
              "(186, 7)"
            ]
          },
          "metadata": {
            "tags": []
          },
          "execution_count": 20
        }
      ]
    },
    {
      "cell_type": "code",
      "metadata": {
        "id": "jO6wy2OjBl-Z",
        "colab_type": "code",
        "outputId": "ef02e0b8-46d3-48d1-926b-b716793d6e5c",
        "colab": {
          "base_uri": "https://localhost:8080/",
          "height": 34
        }
      },
      "source": [
        "df.label.unique()"
      ],
      "execution_count": 21,
      "outputs": [
        {
          "output_type": "execute_result",
          "data": {
            "text/plain": [
              "array([b'C1', b'C2', b'C3', b'C4', b'C5'], dtype=object)"
            ]
          },
          "metadata": {
            "tags": []
          },
          "execution_count": 21
        }
      ]
    },
    {
      "cell_type": "code",
      "metadata": {
        "id": "P35wwGfbBnw5",
        "colab_type": "code",
        "colab": {}
      },
      "source": [
        "df.Type = df.Type.str.decode(\"utf-8\")\n",
        "df.LifeStyle = df.LifeStyle.str.decode(\"utf-8\")\n",
        "df.label =  df.label.str.decode(\"utf-8\")\n"
      ],
      "execution_count": 0,
      "outputs": []
    },
    {
      "cell_type": "code",
      "metadata": {
        "id": "51txaJSNv2lC",
        "colab_type": "code",
        "colab": {
          "base_uri": "https://localhost:8080/",
          "height": 195
        },
        "outputId": "56d7ccde-39f1-4be5-dfea-e38d0762bf7a"
      },
      "source": [
        "df.head(5)"
      ],
      "execution_count": 23,
      "outputs": [
        {
          "output_type": "execute_result",
          "data": {
            "text/html": [
              "<div>\n",
              "<style scoped>\n",
              "    .dataframe tbody tr th:only-of-type {\n",
              "        vertical-align: middle;\n",
              "    }\n",
              "\n",
              "    .dataframe tbody tr th {\n",
              "        vertical-align: top;\n",
              "    }\n",
              "\n",
              "    .dataframe thead th {\n",
              "        text-align: right;\n",
              "    }\n",
              "</style>\n",
              "<table border=\"1\" class=\"dataframe\">\n",
              "  <thead>\n",
              "    <tr style=\"text-align: right;\">\n",
              "      <th></th>\n",
              "      <th>Type</th>\n",
              "      <th>LifeStyle</th>\n",
              "      <th>Vacation</th>\n",
              "      <th>eCredit</th>\n",
              "      <th>salary</th>\n",
              "      <th>property</th>\n",
              "      <th>label</th>\n",
              "    </tr>\n",
              "  </thead>\n",
              "  <tbody>\n",
              "    <tr>\n",
              "      <th>0</th>\n",
              "      <td>student</td>\n",
              "      <td>spend&gt;saving</td>\n",
              "      <td>6.0</td>\n",
              "      <td>40.0</td>\n",
              "      <td>13.62</td>\n",
              "      <td>3.2804</td>\n",
              "      <td>C1</td>\n",
              "    </tr>\n",
              "    <tr>\n",
              "      <th>1</th>\n",
              "      <td>student</td>\n",
              "      <td>spend&gt;saving</td>\n",
              "      <td>11.0</td>\n",
              "      <td>21.0</td>\n",
              "      <td>15.32</td>\n",
              "      <td>2.0232</td>\n",
              "      <td>C1</td>\n",
              "    </tr>\n",
              "    <tr>\n",
              "      <th>2</th>\n",
              "      <td>student</td>\n",
              "      <td>spend&gt;saving</td>\n",
              "      <td>7.0</td>\n",
              "      <td>64.0</td>\n",
              "      <td>16.55</td>\n",
              "      <td>3.1202</td>\n",
              "      <td>C1</td>\n",
              "    </tr>\n",
              "    <tr>\n",
              "      <th>3</th>\n",
              "      <td>student</td>\n",
              "      <td>spend&gt;saving</td>\n",
              "      <td>3.0</td>\n",
              "      <td>47.0</td>\n",
              "      <td>15.71</td>\n",
              "      <td>3.4022</td>\n",
              "      <td>C1</td>\n",
              "    </tr>\n",
              "    <tr>\n",
              "      <th>4</th>\n",
              "      <td>student</td>\n",
              "      <td>spend&gt;saving</td>\n",
              "      <td>15.0</td>\n",
              "      <td>10.0</td>\n",
              "      <td>16.96</td>\n",
              "      <td>2.2825</td>\n",
              "      <td>C1</td>\n",
              "    </tr>\n",
              "  </tbody>\n",
              "</table>\n",
              "</div>"
            ],
            "text/plain": [
              "      Type     LifeStyle  Vacation  eCredit  salary  property label\n",
              "0  student  spend>saving       6.0     40.0   13.62    3.2804    C1\n",
              "1  student  spend>saving      11.0     21.0   15.32    2.0232    C1\n",
              "2  student  spend>saving       7.0     64.0   16.55    3.1202    C1\n",
              "3  student  spend>saving       3.0     47.0   15.71    3.4022    C1\n",
              "4  student  spend>saving      15.0     10.0   16.96    2.2825    C1"
            ]
          },
          "metadata": {
            "tags": []
          },
          "execution_count": 23
        }
      ]
    },
    {
      "cell_type": "code",
      "metadata": {
        "id": "vYUgnDt_BrAh",
        "colab_type": "code",
        "outputId": "87d6aaf0-3714-4ff2-e226-0bfdb455c731",
        "colab": {
          "base_uri": "https://localhost:8080/",
          "height": 118
        }
      },
      "source": [
        "df.Type.value_counts()"
      ],
      "execution_count": 24,
      "outputs": [
        {
          "output_type": "execute_result",
          "data": {
            "text/plain": [
              "engineer     49\n",
              "professor    39\n",
              "student      38\n",
              "doctor       37\n",
              "librarian    23\n",
              "Name: Type, dtype: int64"
            ]
          },
          "metadata": {
            "tags": []
          },
          "execution_count": 24
        }
      ]
    },
    {
      "cell_type": "code",
      "metadata": {
        "id": "M9_N3Y3ZBvrY",
        "colab_type": "code",
        "outputId": "9f3c85ca-3ef9-43d9-cb5b-04910b8ec1a6",
        "colab": {
          "base_uri": "https://localhost:8080/",
          "height": 1082
        }
      },
      "source": [
        "%matplotlib inline\n",
        "from matplotlib import pyplot as p\n",
        "for i in [\"Vacation\",\"eCredit\",\"salary\",\"property\"]:\n",
        "    p.hist(df[i],bins=5)\n",
        "    p.xlabel(i)\n",
        "    p.ylabel(\"Observations\")\n",
        "    p.show()"
      ],
      "execution_count": 25,
      "outputs": [
        {
          "output_type": "display_data",
          "data": {
            "image/png": "[encoded data removed]",
            "text/plain": [
              "<Figure size 432x288 with 1 Axes>"
            ]
          },
          "metadata": {
            "tags": []
          }
        },
        {
          "output_type": "display_data",
          "data": {
            "image/png": "[encoded data removed]",
            "text/plain": [
              "<Figure size 432x288 with 1 Axes>"
            ]
          },
          "metadata": {
            "tags": []
          }
        },
        {
          "output_type": "display_data",
          "data": {
            "image/png": "[encoded data removed]",
            "text/plain": [
              "<Figure size 432x288 with 1 Axes>"
            ]
          },
          "metadata": {
            "tags": []
          }
        },
        {
          "output_type": "display_data",
          "data": {
            "image/png": "[encoded data removed]",
            "text/plain": [
              "<Figure size 432x288 with 1 Axes>"
            ]
          },
          "metadata": {
            "tags": []
          }
        }
      ]
    },
    {
      "cell_type": "code",
      "metadata": {
        "id": "BoR0JDV_Bzd0",
        "colab_type": "code",
        "colab": {
          "base_uri": "https://localhost:8080/",
          "height": 1082
        },
        "outputId": "aea52c68-aafa-4226-8782-79ab13d14c7f"
      },
      "source": [
        "mi1 = [df['Vacation'].min(),df.eCredit.min(),df.salary.min(),df.property.min()]\n",
        "ma1 = [df.Vacation.max(),df.eCredit.max(),df.salary.max(),df.property.max()]\n",
        "df.Vacation=df['Vacation'].apply(lambda x : (x-mi1[0])/(ma1[0]-mi1[0]))\n",
        "\n",
        "df.eCredit=df['eCredit'].apply(lambda x : (x-mi1[1])/(ma1[1]-mi1[1]))\n",
        "\n",
        "df.salary=df['salary'].apply(lambda x : (x-mi1[2])/(ma1[2]-mi1[2]))\n",
        "\n",
        "df.property=df['property'].apply(lambda x : (x-mi1[3])/(ma1[3]-mi1[3]))\n",
        "for i in [\"Vacation\",\"eCredit\",\"salary\",\"property\"]:\n",
        "    p.hist(df[i],bins=5)\n",
        "    p.xlabel(i)\n",
        "    p.ylabel(\"Observations\")\n",
        "    p.show()"
      ],
      "execution_count": 26,
      "outputs": [
        {
          "output_type": "display_data",
          "data": {
            "image/png": "[encoded data removed]",
            "text/plain": [
              "<Figure size 432x288 with 1 Axes>"
            ]
          },
          "metadata": {
            "tags": []
          }
        },
        {
          "output_type": "display_data",
          "data": {
            "image/png": "[encoded data removed]",
            "text/plain": [
              "<Figure size 432x288 with 1 Axes>"
            ]
          },
          "metadata": {
            "tags": []
          }
        },
        {
          "output_type": "display_data",
          "data": {
            "image/png": "[encoded data removed]",
            "text/plain": [
              "<Figure size 432x288 with 1 Axes>"
            ]
          },
          "metadata": {
            "tags": []
          }
        },
        {
          "output_type": "display_data",
          "data": {
            "image/png": "[encoded data removed]",
            "text/plain": [
              "<Figure size 432x288 with 1 Axes>"
            ]
          },
          "metadata": {
            "tags": []
          }
        }
      ]
    },
    {
      "cell_type": "code",
      "metadata": {
        "id": "SlcRywf4B3jo",
        "colab_type": "code",
        "outputId": "4ee8a1a1-73bb-4b66-f039-db585b24fd23",
        "colab": {
          "base_uri": "https://localhost:8080/",
          "height": 1807
        }
      },
      "source": [
        "import seaborn as s\n",
        "t_df = df.copy()\n",
        "p.figure()\n",
        "s.pairplot(t_df, hue = 'label', size=6, markers=[\"o\", \"v\", \"s\",\"p\",\"D\"])\n",
        "p.show()"
      ],
      "execution_count": 27,
      "outputs": [
        {
          "output_type": "stream",
          "text": [
            "/usr/local/lib/python3.6/dist-packages/seaborn/axisgrid.py:2065: UserWarning: The `size` parameter has been renamed to `height`; pleaes update your code.\n",
            "  warnings.warn(msg, UserWarning)\n"
          ],
          "name": "stderr"
        },
        {
          "output_type": "display_data",
          "data": {
            "text/plain": [
              "<Figure size 432x288 with 0 Axes>"
            ]
          },
          "metadata": {
            "tags": []
          }
        },
        {
          "output_type": "display_data",
          "data": {
            "image/png": "[encoded data removed]",
            "text/plain": [
              "<Figure size 1777.25x1728 with 20 Axes>"
            ]
          },
          "metadata": {
            "tags": []
          }
        }
      ]
    },
    {
      "cell_type": "code",
      "metadata": {
        "id": "HTnQw4uJB_nA",
        "colab_type": "code",
        "colab": {
          "base_uri": "https://localhost:8080/",
          "height": 373
        },
        "outputId": "7c1cb784-e791-4f12-8259-40a3c906f94c"
      },
      "source": [
        "sM = pd.read_excel(\"similaritymatrix.xls\",index_col=0)\n",
        "sM"
      ],
      "execution_count": 77,
      "outputs": [
        {
          "output_type": "execute_result",
          "data": {
            "text/html": [
              "<div>\n",
              "<style scoped>\n",
              "    .dataframe tbody tr th:only-of-type {\n",
              "        vertical-align: middle;\n",
              "    }\n",
              "\n",
              "    .dataframe tbody tr th {\n",
              "        vertical-align: top;\n",
              "    }\n",
              "\n",
              "    .dataframe thead th {\n",
              "        text-align: right;\n",
              "    }\n",
              "</style>\n",
              "<table border=\"1\" class=\"dataframe\">\n",
              "  <thead>\n",
              "    <tr style=\"text-align: right;\">\n",
              "      <th></th>\n",
              "      <th>student</th>\n",
              "      <th>engineer</th>\n",
              "      <th>librarian</th>\n",
              "      <th>professor</th>\n",
              "      <th>doctor</th>\n",
              "    </tr>\n",
              "  </thead>\n",
              "  <tbody>\n",
              "    <tr>\n",
              "      <th>student</th>\n",
              "      <td>1</td>\n",
              "      <td>0</td>\n",
              "      <td>0</td>\n",
              "      <td>0</td>\n",
              "      <td>0.0</td>\n",
              "    </tr>\n",
              "    <tr>\n",
              "      <th>engineer</th>\n",
              "      <td>0</td>\n",
              "      <td>1</td>\n",
              "      <td>0</td>\n",
              "      <td>0</td>\n",
              "      <td>0.0</td>\n",
              "    </tr>\n",
              "    <tr>\n",
              "      <th>librarian</th>\n",
              "      <td>0</td>\n",
              "      <td>0</td>\n",
              "      <td>1</td>\n",
              "      <td>0</td>\n",
              "      <td>0.0</td>\n",
              "    </tr>\n",
              "    <tr>\n",
              "      <th>professor</th>\n",
              "      <td>0</td>\n",
              "      <td>0</td>\n",
              "      <td>0</td>\n",
              "      <td>1</td>\n",
              "      <td>0.0</td>\n",
              "    </tr>\n",
              "    <tr>\n",
              "      <th>doctor</th>\n",
              "      <td>0</td>\n",
              "      <td>0</td>\n",
              "      <td>0</td>\n",
              "      <td>0</td>\n",
              "      <td>1.0</td>\n",
              "    </tr>\n",
              "    <tr>\n",
              "      <th>NaN</th>\n",
              "      <td>NaN</td>\n",
              "      <td>NaN</td>\n",
              "      <td>NaN</td>\n",
              "      <td>NaN</td>\n",
              "      <td>NaN</td>\n",
              "    </tr>\n",
              "    <tr>\n",
              "      <th>NaN</th>\n",
              "      <td>spend&lt;&lt;saving</td>\n",
              "      <td>spend&lt;saving</td>\n",
              "      <td>spend&gt;saving</td>\n",
              "      <td>spend&gt;&gt;saving</td>\n",
              "      <td>NaN</td>\n",
              "    </tr>\n",
              "    <tr>\n",
              "      <th>spend&lt;&lt;saving</th>\n",
              "      <td>1</td>\n",
              "      <td>0</td>\n",
              "      <td>0</td>\n",
              "      <td>0</td>\n",
              "      <td>NaN</td>\n",
              "    </tr>\n",
              "    <tr>\n",
              "      <th>spend&lt;saving</th>\n",
              "      <td>0</td>\n",
              "      <td>1</td>\n",
              "      <td>0</td>\n",
              "      <td>0</td>\n",
              "      <td>NaN</td>\n",
              "    </tr>\n",
              "    <tr>\n",
              "      <th>spend&gt;saving</th>\n",
              "      <td>0</td>\n",
              "      <td>0</td>\n",
              "      <td>1</td>\n",
              "      <td>0</td>\n",
              "      <td>NaN</td>\n",
              "    </tr>\n",
              "    <tr>\n",
              "      <th>spend&gt;&gt;saving</th>\n",
              "      <td>0</td>\n",
              "      <td>0</td>\n",
              "      <td>0</td>\n",
              "      <td>1</td>\n",
              "      <td>NaN</td>\n",
              "    </tr>\n",
              "  </tbody>\n",
              "</table>\n",
              "</div>"
            ],
            "text/plain": [
              "                     student      engineer     librarian      professor  doctor\n",
              "student                    1             0             0              0     0.0\n",
              "engineer                   0             1             0              0     0.0\n",
              "librarian                  0             0             1              0     0.0\n",
              "professor                  0             0             0              1     0.0\n",
              "doctor                     0             0             0              0     1.0\n",
              "NaN                      NaN           NaN           NaN            NaN     NaN\n",
              "NaN            spend<<saving  spend<saving  spend>saving  spend>>saving     NaN\n",
              "spend<<saving              1             0             0              0     NaN\n",
              "spend<saving               0             1             0              0     NaN\n",
              "spend>saving               0             0             1              0     NaN\n",
              "spend>>saving              0             0             0              1     NaN"
            ]
          },
          "metadata": {
            "tags": []
          },
          "execution_count": 77
        }
      ]
    },
    {
      "cell_type": "code",
      "metadata": {
        "id": "YQMOp5JsB_3g",
        "colab_type": "code",
        "colab": {
          "base_uri": "https://localhost:8080/",
          "height": 166
        },
        "outputId": "7783bf17-1239-4586-d05a-5836aeb86546"
      },
      "source": [
        "c_t=sM[:5]\n",
        "l = sM[7:]\n",
        "l"
      ],
      "execution_count": 78,
      "outputs": [
        {
          "output_type": "execute_result",
          "data": {
            "text/html": [
              "<div>\n",
              "<style scoped>\n",
              "    .dataframe tbody tr th:only-of-type {\n",
              "        vertical-align: middle;\n",
              "    }\n",
              "\n",
              "    .dataframe tbody tr th {\n",
              "        vertical-align: top;\n",
              "    }\n",
              "\n",
              "    .dataframe thead th {\n",
              "        text-align: right;\n",
              "    }\n",
              "</style>\n",
              "<table border=\"1\" class=\"dataframe\">\n",
              "  <thead>\n",
              "    <tr style=\"text-align: right;\">\n",
              "      <th></th>\n",
              "      <th>student</th>\n",
              "      <th>engineer</th>\n",
              "      <th>librarian</th>\n",
              "      <th>professor</th>\n",
              "      <th>doctor</th>\n",
              "    </tr>\n",
              "  </thead>\n",
              "  <tbody>\n",
              "    <tr>\n",
              "      <th>spend&lt;&lt;saving</th>\n",
              "      <td>1</td>\n",
              "      <td>0</td>\n",
              "      <td>0</td>\n",
              "      <td>0</td>\n",
              "      <td>NaN</td>\n",
              "    </tr>\n",
              "    <tr>\n",
              "      <th>spend&lt;saving</th>\n",
              "      <td>0</td>\n",
              "      <td>1</td>\n",
              "      <td>0</td>\n",
              "      <td>0</td>\n",
              "      <td>NaN</td>\n",
              "    </tr>\n",
              "    <tr>\n",
              "      <th>spend&gt;saving</th>\n",
              "      <td>0</td>\n",
              "      <td>0</td>\n",
              "      <td>1</td>\n",
              "      <td>0</td>\n",
              "      <td>NaN</td>\n",
              "    </tr>\n",
              "    <tr>\n",
              "      <th>spend&gt;&gt;saving</th>\n",
              "      <td>0</td>\n",
              "      <td>0</td>\n",
              "      <td>0</td>\n",
              "      <td>1</td>\n",
              "      <td>NaN</td>\n",
              "    </tr>\n",
              "  </tbody>\n",
              "</table>\n",
              "</div>"
            ],
            "text/plain": [
              "              student engineer librarian professor  doctor\n",
              "spend<<saving       1        0         0         0     NaN\n",
              "spend<saving        0        1         0         0     NaN\n",
              "spend>saving        0        0         1         0     NaN\n",
              "spend>>saving       0        0         0         1     NaN"
            ]
          },
          "metadata": {
            "tags": []
          },
          "execution_count": 78
        }
      ]
    },
    {
      "cell_type": "code",
      "metadata": {
        "id": "KGbZdx-sCAHY",
        "colab_type": "code",
        "outputId": "e49459ef-babe-47ce-c55f-11a5ee147eea",
        "colab": {
          "base_uri": "https://localhost:8080/",
          "height": 166
        }
      },
      "source": [
        "l.columns = [\"spend<<saving\",\"spend<saving\",\"spend>saving\",\"spend>>saving\",\"None\"]\n",
        "l.drop(['None'],axis=1)"
      ],
      "execution_count": 79,
      "outputs": [
        {
          "output_type": "execute_result",
          "data": {
            "text/html": [
              "<div>\n",
              "<style scoped>\n",
              "    .dataframe tbody tr th:only-of-type {\n",
              "        vertical-align: middle;\n",
              "    }\n",
              "\n",
              "    .dataframe tbody tr th {\n",
              "        vertical-align: top;\n",
              "    }\n",
              "\n",
              "    .dataframe thead th {\n",
              "        text-align: right;\n",
              "    }\n",
              "</style>\n",
              "<table border=\"1\" class=\"dataframe\">\n",
              "  <thead>\n",
              "    <tr style=\"text-align: right;\">\n",
              "      <th></th>\n",
              "      <th>spend&lt;&lt;saving</th>\n",
              "      <th>spend&lt;saving</th>\n",
              "      <th>spend&gt;saving</th>\n",
              "      <th>spend&gt;&gt;saving</th>\n",
              "    </tr>\n",
              "  </thead>\n",
              "  <tbody>\n",
              "    <tr>\n",
              "      <th>spend&lt;&lt;saving</th>\n",
              "      <td>1</td>\n",
              "      <td>0</td>\n",
              "      <td>0</td>\n",
              "      <td>0</td>\n",
              "    </tr>\n",
              "    <tr>\n",
              "      <th>spend&lt;saving</th>\n",
              "      <td>0</td>\n",
              "      <td>1</td>\n",
              "      <td>0</td>\n",
              "      <td>0</td>\n",
              "    </tr>\n",
              "    <tr>\n",
              "      <th>spend&gt;saving</th>\n",
              "      <td>0</td>\n",
              "      <td>0</td>\n",
              "      <td>1</td>\n",
              "      <td>0</td>\n",
              "    </tr>\n",
              "    <tr>\n",
              "      <th>spend&gt;&gt;saving</th>\n",
              "      <td>0</td>\n",
              "      <td>0</td>\n",
              "      <td>0</td>\n",
              "      <td>1</td>\n",
              "    </tr>\n",
              "  </tbody>\n",
              "</table>\n",
              "</div>"
            ],
            "text/plain": [
              "              spend<<saving spend<saving spend>saving spend>>saving\n",
              "spend<<saving             1            0            0             0\n",
              "spend<saving              0            1            0             0\n",
              "spend>saving              0            0            1             0\n",
              "spend>>saving             0            0            0             1"
            ]
          },
          "metadata": {
            "tags": []
          },
          "execution_count": 79
        }
      ]
    },
    {
      "cell_type": "code",
      "metadata": {
        "id": "Xs_nnVpxGLkp",
        "colab_type": "code",
        "outputId": "97e9f353-5c11-4796-d758-f2e8e994f4b9",
        "colab": {
          "base_uri": "https://localhost:8080/",
          "height": 195
        }
      },
      "source": [
        "c_t"
      ],
      "execution_count": 80,
      "outputs": [
        {
          "output_type": "execute_result",
          "data": {
            "text/html": [
              "<div>\n",
              "<style scoped>\n",
              "    .dataframe tbody tr th:only-of-type {\n",
              "        vertical-align: middle;\n",
              "    }\n",
              "\n",
              "    .dataframe tbody tr th {\n",
              "        vertical-align: top;\n",
              "    }\n",
              "\n",
              "    .dataframe thead th {\n",
              "        text-align: right;\n",
              "    }\n",
              "</style>\n",
              "<table border=\"1\" class=\"dataframe\">\n",
              "  <thead>\n",
              "    <tr style=\"text-align: right;\">\n",
              "      <th></th>\n",
              "      <th>student</th>\n",
              "      <th>engineer</th>\n",
              "      <th>librarian</th>\n",
              "      <th>professor</th>\n",
              "      <th>doctor</th>\n",
              "    </tr>\n",
              "  </thead>\n",
              "  <tbody>\n",
              "    <tr>\n",
              "      <th>student</th>\n",
              "      <td>1</td>\n",
              "      <td>0</td>\n",
              "      <td>0</td>\n",
              "      <td>0</td>\n",
              "      <td>0.0</td>\n",
              "    </tr>\n",
              "    <tr>\n",
              "      <th>engineer</th>\n",
              "      <td>0</td>\n",
              "      <td>1</td>\n",
              "      <td>0</td>\n",
              "      <td>0</td>\n",
              "      <td>0.0</td>\n",
              "    </tr>\n",
              "    <tr>\n",
              "      <th>librarian</th>\n",
              "      <td>0</td>\n",
              "      <td>0</td>\n",
              "      <td>1</td>\n",
              "      <td>0</td>\n",
              "      <td>0.0</td>\n",
              "    </tr>\n",
              "    <tr>\n",
              "      <th>professor</th>\n",
              "      <td>0</td>\n",
              "      <td>0</td>\n",
              "      <td>0</td>\n",
              "      <td>1</td>\n",
              "      <td>0.0</td>\n",
              "    </tr>\n",
              "    <tr>\n",
              "      <th>doctor</th>\n",
              "      <td>0</td>\n",
              "      <td>0</td>\n",
              "      <td>0</td>\n",
              "      <td>0</td>\n",
              "      <td>1.0</td>\n",
              "    </tr>\n",
              "  </tbody>\n",
              "</table>\n",
              "</div>"
            ],
            "text/plain": [
              "          student engineer librarian professor  doctor\n",
              "student         1        0         0         0     0.0\n",
              "engineer        0        1         0         0     0.0\n",
              "librarian       0        0         1         0     0.0\n",
              "professor       0        0         0         1     0.0\n",
              "doctor          0        0         0         0     1.0"
            ]
          },
          "metadata": {
            "tags": []
          },
          "execution_count": 80
        }
      ]
    },
    {
      "cell_type": "code",
      "metadata": {
        "id": "lVHwSYvNGN0x",
        "colab_type": "code",
        "outputId": "f31f9f66-a5d6-4c87-acb9-c8a58a23f2bd",
        "colab": {
          "base_uri": "https://localhost:8080/",
          "height": 195
        }
      },
      "source": [
        "df_t = df[:162]\n",
        "df_v = df[162:]\n",
        "df_t.tail()"
      ],
      "execution_count": 81,
      "outputs": [
        {
          "output_type": "execute_result",
          "data": {
            "text/html": [
              "<div>\n",
              "<style scoped>\n",
              "    .dataframe tbody tr th:only-of-type {\n",
              "        vertical-align: middle;\n",
              "    }\n",
              "\n",
              "    .dataframe tbody tr th {\n",
              "        vertical-align: top;\n",
              "    }\n",
              "\n",
              "    .dataframe thead th {\n",
              "        text-align: right;\n",
              "    }\n",
              "</style>\n",
              "<table border=\"1\" class=\"dataframe\">\n",
              "  <thead>\n",
              "    <tr style=\"text-align: right;\">\n",
              "      <th></th>\n",
              "      <th>Type</th>\n",
              "      <th>LifeStyle</th>\n",
              "      <th>Vacation</th>\n",
              "      <th>eCredit</th>\n",
              "      <th>salary</th>\n",
              "      <th>property</th>\n",
              "      <th>label</th>\n",
              "    </tr>\n",
              "  </thead>\n",
              "  <tbody>\n",
              "    <tr>\n",
              "      <th>157</th>\n",
              "      <td>professor</td>\n",
              "      <td>spend&gt;saving</td>\n",
              "      <td>0.761905</td>\n",
              "      <td>0.005814</td>\n",
              "      <td>0.469504</td>\n",
              "      <td>0.104541</td>\n",
              "      <td>C5</td>\n",
              "    </tr>\n",
              "    <tr>\n",
              "      <th>158</th>\n",
              "      <td>professor</td>\n",
              "      <td>spend&gt;saving</td>\n",
              "      <td>0.777778</td>\n",
              "      <td>0.000000</td>\n",
              "      <td>0.335697</td>\n",
              "      <td>0.143885</td>\n",
              "      <td>C5</td>\n",
              "    </tr>\n",
              "    <tr>\n",
              "      <th>159</th>\n",
              "      <td>professor</td>\n",
              "      <td>spend&gt;&gt;saving</td>\n",
              "      <td>0.761905</td>\n",
              "      <td>0.005814</td>\n",
              "      <td>0.645476</td>\n",
              "      <td>0.154251</td>\n",
              "      <td>C5</td>\n",
              "    </tr>\n",
              "    <tr>\n",
              "      <th>160</th>\n",
              "      <td>professor</td>\n",
              "      <td>spend&gt;&gt;saving</td>\n",
              "      <td>0.777778</td>\n",
              "      <td>0.005814</td>\n",
              "      <td>0.611056</td>\n",
              "      <td>0.186268</td>\n",
              "      <td>C5</td>\n",
              "    </tr>\n",
              "    <tr>\n",
              "      <th>161</th>\n",
              "      <td>professor</td>\n",
              "      <td>spend&gt;&gt;saving</td>\n",
              "      <td>0.777778</td>\n",
              "      <td>0.000000</td>\n",
              "      <td>0.476818</td>\n",
              "      <td>0.161874</td>\n",
              "      <td>C5</td>\n",
              "    </tr>\n",
              "  </tbody>\n",
              "</table>\n",
              "</div>"
            ],
            "text/plain": [
              "          Type      LifeStyle  Vacation   eCredit    salary  property label\n",
              "157  professor   spend>saving  0.761905  0.005814  0.469504  0.104541    C5\n",
              "158  professor   spend>saving  0.777778  0.000000  0.335697  0.143885    C5\n",
              "159  professor  spend>>saving  0.761905  0.005814  0.645476  0.154251    C5\n",
              "160  professor  spend>>saving  0.777778  0.005814  0.611056  0.186268    C5\n",
              "161  professor  spend>>saving  0.777778  0.000000  0.476818  0.161874    C5"
            ]
          },
          "metadata": {
            "tags": []
          },
          "execution_count": 81
        }
      ]
    },
    {
      "cell_type": "code",
      "metadata": {
        "id": "Y5UZNljwGQV5",
        "colab_type": "code",
        "outputId": "84bad872-bba0-4ab3-b561-5f1c045e6afe",
        "colab": {
          "base_uri": "https://localhost:8080/",
          "height": 195
        }
      },
      "source": [
        "df_t = df_t.sample(frac=1).reset_index(drop=True)\n",
        "df_t.tail()"
      ],
      "execution_count": 82,
      "outputs": [
        {
          "output_type": "execute_result",
          "data": {
            "text/html": [
              "<div>\n",
              "<style scoped>\n",
              "    .dataframe tbody tr th:only-of-type {\n",
              "        vertical-align: middle;\n",
              "    }\n",
              "\n",
              "    .dataframe tbody tr th {\n",
              "        vertical-align: top;\n",
              "    }\n",
              "\n",
              "    .dataframe thead th {\n",
              "        text-align: right;\n",
              "    }\n",
              "</style>\n",
              "<table border=\"1\" class=\"dataframe\">\n",
              "  <thead>\n",
              "    <tr style=\"text-align: right;\">\n",
              "      <th></th>\n",
              "      <th>Type</th>\n",
              "      <th>LifeStyle</th>\n",
              "      <th>Vacation</th>\n",
              "      <th>eCredit</th>\n",
              "      <th>salary</th>\n",
              "      <th>property</th>\n",
              "      <th>label</th>\n",
              "    </tr>\n",
              "  </thead>\n",
              "  <tbody>\n",
              "    <tr>\n",
              "      <th>157</th>\n",
              "      <td>student</td>\n",
              "      <td>spend&gt;saving</td>\n",
              "      <td>0.142857</td>\n",
              "      <td>0.183140</td>\n",
              "      <td>0.498331</td>\n",
              "      <td>0.223070</td>\n",
              "      <td>C3</td>\n",
              "    </tr>\n",
              "    <tr>\n",
              "      <th>158</th>\n",
              "      <td>professor</td>\n",
              "      <td>spend&gt;saving</td>\n",
              "      <td>0.047619</td>\n",
              "      <td>0.026163</td>\n",
              "      <td>0.307412</td>\n",
              "      <td>0.061862</td>\n",
              "      <td>C2</td>\n",
              "    </tr>\n",
              "    <tr>\n",
              "      <th>159</th>\n",
              "      <td>engineer</td>\n",
              "      <td>spend&gt;&gt;saving</td>\n",
              "      <td>0.634921</td>\n",
              "      <td>0.125000</td>\n",
              "      <td>0.429921</td>\n",
              "      <td>0.466665</td>\n",
              "      <td>C1</td>\n",
              "    </tr>\n",
              "    <tr>\n",
              "      <th>160</th>\n",
              "      <td>professor</td>\n",
              "      <td>spend&lt;saving</td>\n",
              "      <td>0.063492</td>\n",
              "      <td>0.023256</td>\n",
              "      <td>0.557503</td>\n",
              "      <td>0.046335</td>\n",
              "      <td>C2</td>\n",
              "    </tr>\n",
              "    <tr>\n",
              "      <th>161</th>\n",
              "      <td>doctor</td>\n",
              "      <td>spend&lt;saving</td>\n",
              "      <td>0.920635</td>\n",
              "      <td>0.145349</td>\n",
              "      <td>0.490156</td>\n",
              "      <td>0.239319</td>\n",
              "      <td>C4</td>\n",
              "    </tr>\n",
              "  </tbody>\n",
              "</table>\n",
              "</div>"
            ],
            "text/plain": [
              "          Type      LifeStyle  Vacation   eCredit    salary  property label\n",
              "157    student   spend>saving  0.142857  0.183140  0.498331  0.223070    C3\n",
              "158  professor   spend>saving  0.047619  0.026163  0.307412  0.061862    C2\n",
              "159   engineer  spend>>saving  0.634921  0.125000  0.429921  0.466665    C1\n",
              "160  professor   spend<saving  0.063492  0.023256  0.557503  0.046335    C2\n",
              "161     doctor   spend<saving  0.920635  0.145349  0.490156  0.239319    C4"
            ]
          },
          "metadata": {
            "tags": []
          },
          "execution_count": 82
        }
      ]
    },
    {
      "cell_type": "code",
      "metadata": {
        "id": "vp-2gWA-GTCI",
        "colab_type": "code",
        "colab": {
          "base_uri": "https://localhost:8080/",
          "height": 118
        },
        "outputId": "2aa441fc-ce40-4c22-91c1-00867056d871"
      },
      "source": [
        "import operator\n",
        "class knn(object):\n",
        "    \n",
        "    def __init__(self,neighbors=None,matrix1=None,matrix2=None,minV=None,maxV=None):\n",
        "        self.trainData_X = None\n",
        "        self.trainData_Y = None\n",
        "        self.neighbors = neighbors\n",
        "        self.similaritiesMatrix1 = matrix1\n",
        "        self.similaritiesMatrix2 = matrix2\n",
        "        self.maxValues = maxV\n",
        "        self.minValues = minV\n",
        "        \n",
        "    def fit(self,X,Y):\n",
        "        self.trainData_X = X\n",
        "        self.trainData_Y = Y\n",
        "    \n",
        "    def similarities(self,x1,x2):     \n",
        "        d= np.square(self.similaritiesMatrix1[x1[0]][x2[0]])\n",
        "        d+= np.square(self.similaritiesMatrix2[x1[1]][x2[1]])\n",
        "        for i in range(2,len(x1)):\n",
        "            mn,mx = self.minValues[str(i)],self.maxValues[str(i)]\n",
        "            if mx !=None or mn!=None:\n",
        "                d+= np.square((x1[i]-x2[i])/(mx-mn))\n",
        "        return np.sqrt(d)   \n",
        "    \n",
        "    def Votes(self,lst):\n",
        "        mode = [None]\n",
        "        mx=0\n",
        "        for i in range(len(lst)):\n",
        "            c=0\n",
        "            for j in range(len(lst)):\n",
        "                if lst[i]==lst[j]:\n",
        "                    c+=1\n",
        "            if mx<c:\n",
        "                if lst[i] not in mode:\n",
        "                    mode[0] = lst[i]\n",
        "                mx = c\n",
        "            elif mx==c:\n",
        "                if lst[i] not in mode:\n",
        "                    mode.append(lst[i])\n",
        "        if not mode[0]:\n",
        "            return lst\n",
        "        return mode[0]\n",
        "     \n",
        "    def predict(self,X_test,Y_test):\n",
        "        if not self.neighbors:\n",
        "            self.neighbors = 3\n",
        "        predictClass = []\n",
        "        for e in range(len(X_test)):\n",
        "            distances={}\n",
        "            for x_i in range(len(self.trainData_X)):\n",
        "                dist = self.similarities(X_test[e],self.trainData_X[x_i])\n",
        "                distances[x_i] = dist\n",
        "            sorted_d = sorted(distances.items(),key=operator.itemgetter(1))\n",
        "            kneighbors = [self.trainData_Y[x[0]] for x in sorted_d[:self.neighbors]]\n",
        "            kVotes = self.Votes(kneighbors)\n",
        "            predictClass.append(kVotes)            \n",
        "        return predictClass\n",
        "minValues = {\"1\":None,\"2\":None,\"3\":df['Vacation'].min(),\"4\":df.eCredit.min(),\"5\":df.salary.min(),\"6\":df.property.min()}\n",
        "maxValues = {\"1\":None,\"2\":None,\"3\":df.Vacation.max(),\"4\":df.eCredit.max(),\"5\":df.salary.max(),\"6\":df.property.max()}\n",
        "model_valid = knn(neighbors=3,matrix1=c_t,matrix2=l,minV=minValues,maxV=maxValues)\n",
        "model_valid.fit(df_t.values[:,[0,1,2,3,4,5]],df_t.values[:,[6]])\n",
        "pred_train = model_valid.predict(df_t.values[:,[0,1,2,3,4,5]],df_t.values[:,[6]])\n",
        "pred_valid=model_valid.predict(df_v.values[:,[0,1,2,3,4,5]],df_v.values[:,[6]])\n",
        "a = pd.Series(pred_valid).value_counts()\n",
        "b = pd.Series(pred_train).value_counts()\n",
        "a"
      ],
      "execution_count": 83,
      "outputs": [
        {
          "output_type": "execute_result",
          "data": {
            "text/plain": [
              "[C2]    9\n",
              "[C4]    6\n",
              "[C3]    4\n",
              "[C5]    4\n",
              "[C1]    1\n",
              "dtype: int64"
            ]
          },
          "metadata": {
            "tags": []
          },
          "execution_count": 83
        }
      ]
    },
    {
      "cell_type": "code",
      "metadata": {
        "id": "HmZOoPyGGmUH",
        "colab_type": "code",
        "colab": {
          "base_uri": "https://localhost:8080/",
          "height": 118
        },
        "outputId": "8ed5ae95-ce33-4057-eea1-dd7c7a3bc131"
      },
      "source": [
        "from sklearn.metrics import confusion_matrix\n",
        "b/len(df_t)"
      ],
      "execution_count": 84,
      "outputs": [
        {
          "output_type": "execute_result",
          "data": {
            "text/plain": [
              "[C4]    0.469136\n",
              "[C1]    0.283951\n",
              "[C2]    0.179012\n",
              "[C3]    0.037037\n",
              "[C5]    0.030864\n",
              "dtype: float64"
            ]
          },
          "metadata": {
            "tags": []
          },
          "execution_count": 84
        }
      ]
    },
    {
      "cell_type": "code",
      "metadata": {
        "id": "Q-ZjIhwkGmhR",
        "colab_type": "code",
        "outputId": "77051ee9-51ba-44bc-bb70-e100603aadeb",
        "colab": {
          "base_uri": "https://localhost:8080/",
          "height": 118
        }
      },
      "source": [
        "a/len(df_v)"
      ],
      "execution_count": 85,
      "outputs": [
        {
          "output_type": "execute_result",
          "data": {
            "text/plain": [
              "[C2]    0.375000\n",
              "[C4]    0.250000\n",
              "[C3]    0.166667\n",
              "[C5]    0.166667\n",
              "[C1]    0.041667\n",
              "dtype: float64"
            ]
          },
          "metadata": {
            "tags": []
          },
          "execution_count": 85
        }
      ]
    },
    {
      "cell_type": "code",
      "metadata": {
        "id": "NTLTjvjlGmnf",
        "colab_type": "code",
        "colab": {
          "base_uri": "https://localhost:8080/",
          "height": 195
        },
        "outputId": "b909e914-0903-4b14-a150-d93bbceb4f26"
      },
      "source": [
        "model_valid1 = knn(neighbors=3,matrix1=c_t,matrix2=l,minV=minValues,maxV=maxValues)\n",
        "model_valid1.fit(df_t.values[:,[0,1,2,3,4]],df_t.values[:,[6]])\n",
        "pred_prp=model_valid1.predict(df_t.values[:,[0,1,2,3,4]],df_t.values[:,[6]])\n",
        "c = pd.Series(pred_prp).value_counts()\n",
        "dataTest = arff.loadarff(\"testProdSelection.arff\")\n",
        "df_test = pd.DataFrame(dataTest[0])\n",
        "minValues2 = [df_test['Vacation'].min(),df_test.eCredit.min(),df_test.salary.min(),df_test.property.min()]\n",
        "maxValues2 = [df_test.Vacation.max(),df_test.eCredit.max(),df_test.salary.max(),df_test.property.max()]\n",
        "df_test.Type = df_test.Type.str.decode('utf-8')\n",
        "df_test.LifeStyle = df_test.LifeStyle.str.decode('utf-8')\n",
        "df_test.label = df_test.label.str.decode('utf-8')\n",
        "df_test.head(5)"
      ],
      "execution_count": 86,
      "outputs": [
        {
          "output_type": "execute_result",
          "data": {
            "text/html": [
              "<div>\n",
              "<style scoped>\n",
              "    .dataframe tbody tr th:only-of-type {\n",
              "        vertical-align: middle;\n",
              "    }\n",
              "\n",
              "    .dataframe tbody tr th {\n",
              "        vertical-align: top;\n",
              "    }\n",
              "\n",
              "    .dataframe thead th {\n",
              "        text-align: right;\n",
              "    }\n",
              "</style>\n",
              "<table border=\"1\" class=\"dataframe\">\n",
              "  <thead>\n",
              "    <tr style=\"text-align: right;\">\n",
              "      <th></th>\n",
              "      <th>Type</th>\n",
              "      <th>LifeStyle</th>\n",
              "      <th>Vacation</th>\n",
              "      <th>eCredit</th>\n",
              "      <th>salary</th>\n",
              "      <th>property</th>\n",
              "      <th>label</th>\n",
              "    </tr>\n",
              "  </thead>\n",
              "  <tbody>\n",
              "    <tr>\n",
              "      <th>0</th>\n",
              "      <td>student</td>\n",
              "      <td>spend&lt;saving</td>\n",
              "      <td>12.0</td>\n",
              "      <td>19.0</td>\n",
              "      <td>14.7900</td>\n",
              "      <td>3.7697</td>\n",
              "      <td>C1</td>\n",
              "    </tr>\n",
              "    <tr>\n",
              "      <th>1</th>\n",
              "      <td>student</td>\n",
              "      <td>spend&gt;&gt;saving</td>\n",
              "      <td>29.0</td>\n",
              "      <td>10.0</td>\n",
              "      <td>16.1900</td>\n",
              "      <td>2.4839</td>\n",
              "      <td>C1</td>\n",
              "    </tr>\n",
              "    <tr>\n",
              "      <th>2</th>\n",
              "      <td>student</td>\n",
              "      <td>spend&lt;&lt;saving</td>\n",
              "      <td>28.0</td>\n",
              "      <td>60.0</td>\n",
              "      <td>15.4600</td>\n",
              "      <td>1.1885</td>\n",
              "      <td>C1</td>\n",
              "    </tr>\n",
              "    <tr>\n",
              "      <th>3</th>\n",
              "      <td>engineer</td>\n",
              "      <td>spend&gt;saving</td>\n",
              "      <td>15.0</td>\n",
              "      <td>41.0</td>\n",
              "      <td>21.2600</td>\n",
              "      <td>1.4379</td>\n",
              "      <td>C1</td>\n",
              "    </tr>\n",
              "    <tr>\n",
              "      <th>4</th>\n",
              "      <td>librarian</td>\n",
              "      <td>spend&lt;saving</td>\n",
              "      <td>2.0</td>\n",
              "      <td>9.0</td>\n",
              "      <td>19.7207</td>\n",
              "      <td>0.6913</td>\n",
              "      <td>C1</td>\n",
              "    </tr>\n",
              "  </tbody>\n",
              "</table>\n",
              "</div>"
            ],
            "text/plain": [
              "        Type      LifeStyle  Vacation  eCredit   salary  property label\n",
              "0    student   spend<saving      12.0     19.0  14.7900    3.7697    C1\n",
              "1    student  spend>>saving      29.0     10.0  16.1900    2.4839    C1\n",
              "2    student  spend<<saving      28.0     60.0  15.4600    1.1885    C1\n",
              "3   engineer   spend>saving      15.0     41.0  21.2600    1.4379    C1\n",
              "4  librarian   spend<saving       2.0      9.0  19.7207    0.6913    C1"
            ]
          },
          "metadata": {
            "tags": []
          },
          "execution_count": 86
        }
      ]
    },
    {
      "cell_type": "code",
      "metadata": {
        "id": "ZgPWa--dHEs1",
        "colab_type": "code",
        "colab": {
          "base_uri": "https://localhost:8080/",
          "height": 34
        },
        "outputId": "772019f2-d149-4f61-abc0-cbdb566ea90b"
      },
      "source": [
        "df_test.eCredit=df_test['eCredit'].apply(lambda x : (x-minValues2[1])/(maxValues2[1]-minValues2[1]))\n",
        "df_test.salary=df_test['salary'].apply(lambda x : (x-minValues2[2])/(maxValues2[2]-minValues2[2]))\n",
        "df_test.Vacation=df_test['Vacation'].apply(lambda x : (x-minValues2[0])/(maxValues2[0]-minValues2[0]))\n",
        "df_test.property=df_test['property'].apply(lambda x : (x-minValues2[3])/(maxValues2[3]-minValues2[3]))\n",
        "x_test = df_test.values\n",
        "x_test.shape"
      ],
      "execution_count": 87,
      "outputs": [
        {
          "output_type": "execute_result",
          "data": {
            "text/plain": [
              "(21, 7)"
            ]
          },
          "metadata": {
            "tags": []
          },
          "execution_count": 87
        }
      ]
    },
    {
      "cell_type": "code",
      "metadata": {
        "id": "3N_7f8glHPqv",
        "colab_type": "code",
        "outputId": "1e26b51f-eb8a-4e58-c2dc-651e619de763",
        "colab": {
          "base_uri": "https://localhost:8080/",
          "height": 50
        }
      },
      "source": [
        "print(minValues)\n",
        "print(maxValues)"
      ],
      "execution_count": 88,
      "outputs": [
        {
          "output_type": "stream",
          "text": [
            "{'1': None, '2': None, '3': 0.0, '4': 0.0, '5': 0.0, '6': 0.0}\n",
            "{'1': None, '2': None, '3': 1.0, '4': 1.0, '5': 1.0, '6': 1.0}\n"
          ],
          "name": "stdout"
        }
      ]
    },
    {
      "cell_type": "code",
      "metadata": {
        "id": "P-2Yg3UyHPzG",
        "colab_type": "code",
        "colab": {
          "base_uri": "https://localhost:8080/",
          "height": 166
        },
        "outputId": "a44b3d83-557b-493c-feb1-c575a0ba7bbe"
      },
      "source": [
        "x = df.values\n",
        "X = x[:,[0,1,2,3,4]]\n",
        "Y=x[:,6]\n",
        "y_test = x_test[:,6]\n",
        "x_test = x_test[:,[0,1,2,3,4]]\n",
        "model = knn(neighbors=5,matrix1=c_t,matrix2=l,minV = minValues,maxV = maxValues)\n",
        "model.fit(X,Y)\n",
        "predTest = model.predict(x_test,y_test)\n",
        "df.corr(method=\"pearson\")"
      ],
      "execution_count": 89,
      "outputs": [
        {
          "output_type": "execute_result",
          "data": {
            "text/html": [
              "<div>\n",
              "<style scoped>\n",
              "    .dataframe tbody tr th:only-of-type {\n",
              "        vertical-align: middle;\n",
              "    }\n",
              "\n",
              "    .dataframe tbody tr th {\n",
              "        vertical-align: top;\n",
              "    }\n",
              "\n",
              "    .dataframe thead th {\n",
              "        text-align: right;\n",
              "    }\n",
              "</style>\n",
              "<table border=\"1\" class=\"dataframe\">\n",
              "  <thead>\n",
              "    <tr style=\"text-align: right;\">\n",
              "      <th></th>\n",
              "      <th>Vacation</th>\n",
              "      <th>eCredit</th>\n",
              "      <th>salary</th>\n",
              "      <th>property</th>\n",
              "    </tr>\n",
              "  </thead>\n",
              "  <tbody>\n",
              "    <tr>\n",
              "      <th>Vacation</th>\n",
              "      <td>1.000000</td>\n",
              "      <td>-0.355139</td>\n",
              "      <td>0.110022</td>\n",
              "      <td>-0.296422</td>\n",
              "    </tr>\n",
              "    <tr>\n",
              "      <th>eCredit</th>\n",
              "      <td>-0.355139</td>\n",
              "      <td>1.000000</td>\n",
              "      <td>0.408194</td>\n",
              "      <td>0.830698</td>\n",
              "    </tr>\n",
              "    <tr>\n",
              "      <th>salary</th>\n",
              "      <td>0.110022</td>\n",
              "      <td>0.408194</td>\n",
              "      <td>1.000000</td>\n",
              "      <td>0.427750</td>\n",
              "    </tr>\n",
              "    <tr>\n",
              "      <th>property</th>\n",
              "      <td>-0.296422</td>\n",
              "      <td>0.830698</td>\n",
              "      <td>0.427750</td>\n",
              "      <td>1.000000</td>\n",
              "    </tr>\n",
              "  </tbody>\n",
              "</table>\n",
              "</div>"
            ],
            "text/plain": [
              "          Vacation   eCredit    salary  property\n",
              "Vacation  1.000000 -0.355139  0.110022 -0.296422\n",
              "eCredit  -0.355139  1.000000  0.408194  0.830698\n",
              "salary    0.110022  0.408194  1.000000  0.427750\n",
              "property -0.296422  0.830698  0.427750  1.000000"
            ]
          },
          "metadata": {
            "tags": []
          },
          "execution_count": 89
        }
      ]
    },
    {
      "cell_type": "code",
      "metadata": {
        "id": "h4wlKMPcHbZu",
        "colab_type": "code",
        "outputId": "f8514d38-d004-4f21-bae2-b599ed3968f3",
        "colab": {
          "base_uri": "https://localhost:8080/",
          "height": 34
        }
      },
      "source": [
        "len(predTest)"
      ],
      "execution_count": 90,
      "outputs": [
        {
          "output_type": "execute_result",
          "data": {
            "text/plain": [
              "21"
            ]
          },
          "metadata": {
            "tags": []
          },
          "execution_count": 90
        }
      ]
    },
    {
      "cell_type": "code",
      "metadata": {
        "id": "tjWYJhfmHbf2",
        "colab_type": "code",
        "colab": {
          "base_uri": "https://localhost:8080/",
          "height": 370
        },
        "outputId": "51d634a7-d7b8-4b0e-9d94-859ba93ee32d"
      },
      "source": [
        "a=pd.Series(y_test).value_counts()\n",
        "pd.Series(predTest).tolist()"
      ],
      "execution_count": 91,
      "outputs": [
        {
          "output_type": "execute_result",
          "data": {
            "text/plain": [
              "['C2',\n",
              " 'C2',\n",
              " 'C2',\n",
              " 'C4',\n",
              " 'C5',\n",
              " 'C1',\n",
              " 'C2',\n",
              " 'C1',\n",
              " 'C3',\n",
              " 'C1',\n",
              " 'C3',\n",
              " 'C1',\n",
              " 'C1',\n",
              " 'C1',\n",
              " 'C4',\n",
              " 'C4',\n",
              " 'C4',\n",
              " 'C1',\n",
              " 'C2',\n",
              " 'C5',\n",
              " 'C2']"
            ]
          },
          "metadata": {
            "tags": []
          },
          "execution_count": 91
        }
      ]
    },
    {
      "cell_type": "code",
      "metadata": {
        "id": "augJLWUzHbrI",
        "colab_type": "code",
        "colab": {
          "base_uri": "https://localhost:8080/",
          "height": 118
        },
        "outputId": "19e8e376-c694-4eec-e307-d20f7bcfb660"
      },
      "source": [
        "r=pd.Series(predTest).value_counts()\n",
        "round((r/len(predTest))*100,2)"
      ],
      "execution_count": 92,
      "outputs": [
        {
          "output_type": "execute_result",
          "data": {
            "text/plain": [
              "C1    33.33\n",
              "C2    28.57\n",
              "C4    19.05\n",
              "C5     9.52\n",
              "C3     9.52\n",
              "dtype: float64"
            ]
          },
          "metadata": {
            "tags": []
          },
          "execution_count": 92
        }
      ]
    },
    {
      "cell_type": "code",
      "metadata": {
        "id": "UHtEisu4HnkO",
        "colab_type": "code",
        "colab": {
          "base_uri": "https://localhost:8080/",
          "height": 34
        },
        "outputId": "3c448026-9569-4322-f5df-11c31872da3c"
      },
      "source": [
        "from sklearn.metrics import accuracy_score\n",
        "accuracy_score(y_test,predTest)"
      ],
      "execution_count": 93,
      "outputs": [
        {
          "output_type": "execute_result",
          "data": {
            "text/plain": [
              "0.3333333333333333"
            ]
          },
          "metadata": {
            "tags": []
          },
          "execution_count": 93
        }
      ]
    },
    {
      "cell_type": "code",
      "metadata": {
        "id": "91cgK6eaHnxt",
        "colab_type": "code",
        "colab": {
          "base_uri": "https://localhost:8080/",
          "height": 34
        },
        "outputId": "6e383c14-a531-49db-f185-fc7fca45ad3c"
      },
      "source": [
        "from sklearn.neighbors import KNeighborsClassifier\n",
        "from sklearn import preprocessing\n",
        "temp = df.copy()\n",
        "test_temp = df_test.copy()\n",
        "label = preprocessing.LabelEncoder()\n",
        "temp_Y=temp.label.unique().tolist()\n",
        "test_temp_Y = test_temp.label.unique().tolist()\n",
        "temp_Y"
      ],
      "execution_count": 94,
      "outputs": [
        {
          "output_type": "execute_result",
          "data": {
            "text/plain": [
              "['C1', 'C2', 'C3', 'C4', 'C5']"
            ]
          },
          "metadata": {
            "tags": []
          },
          "execution_count": 94
        }
      ]
    },
    {
      "cell_type": "code",
      "metadata": {
        "id": "zcRtCK9dHyoI",
        "colab_type": "code",
        "outputId": "0ab27235-80ab-4438-ddf6-d60003688bbd",
        "colab": {
          "base_uri": "https://localhost:8080/",
          "height": 34
        }
      },
      "source": [
        "encoder = preprocessing.LabelEncoder()\n",
        "test_encoder= preprocessing.LabelEncoder()\n",
        "encoder.fit(temp_Y)"
      ],
      "execution_count": 95,
      "outputs": [
        {
          "output_type": "execute_result",
          "data": {
            "text/plain": [
              "LabelEncoder()"
            ]
          },
          "metadata": {
            "tags": []
          },
          "execution_count": 95
        }
      ]
    },
    {
      "cell_type": "code",
      "metadata": {
        "id": "V1PhpTkQHyuI",
        "colab_type": "code",
        "outputId": "b06e304f-5248-4214-f1b2-2294b94b0794",
        "colab": {
          "base_uri": "https://localhost:8080/",
          "height": 34
        }
      },
      "source": [
        "test_encoder.fit(test_temp_Y)"
      ],
      "execution_count": 96,
      "outputs": [
        {
          "output_type": "execute_result",
          "data": {
            "text/plain": [
              "LabelEncoder()"
            ]
          },
          "metadata": {
            "tags": []
          },
          "execution_count": 96
        }
      ]
    },
    {
      "cell_type": "code",
      "metadata": {
        "id": "4MxVWNQ2Hy0a",
        "colab_type": "code",
        "outputId": "deda45b5-7b15-40a7-c3b8-ff029edcee4d",
        "colab": {
          "base_uri": "https://localhost:8080/",
          "height": 50
        }
      },
      "source": [
        "temp.label = encoder.transform(temp.label)\n",
        "test_temp.label = test_encoder.transform(test_temp.label)\n",
        "test_temp.label.value_counts()"
      ],
      "execution_count": 97,
      "outputs": [
        {
          "output_type": "execute_result",
          "data": {
            "text/plain": [
              "0    21\n",
              "Name: label, dtype: int64"
            ]
          },
          "metadata": {
            "tags": []
          },
          "execution_count": 97
        }
      ]
    },
    {
      "cell_type": "code",
      "metadata": {
        "id": "dEuDjJFlHy5o",
        "colab_type": "code",
        "outputId": "773a2504-b7e5-4aa7-95cb-cb54bc21c77c",
        "colab": {
          "base_uri": "https://localhost:8080/",
          "height": 195
        }
      },
      "source": [
        "temp.head()"
      ],
      "execution_count": 98,
      "outputs": [
        {
          "output_type": "execute_result",
          "data": {
            "text/html": [
              "<div>\n",
              "<style scoped>\n",
              "    .dataframe tbody tr th:only-of-type {\n",
              "        vertical-align: middle;\n",
              "    }\n",
              "\n",
              "    .dataframe tbody tr th {\n",
              "        vertical-align: top;\n",
              "    }\n",
              "\n",
              "    .dataframe thead th {\n",
              "        text-align: right;\n",
              "    }\n",
              "</style>\n",
              "<table border=\"1\" class=\"dataframe\">\n",
              "  <thead>\n",
              "    <tr style=\"text-align: right;\">\n",
              "      <th></th>\n",
              "      <th>Type</th>\n",
              "      <th>LifeStyle</th>\n",
              "      <th>Vacation</th>\n",
              "      <th>eCredit</th>\n",
              "      <th>salary</th>\n",
              "      <th>property</th>\n",
              "      <th>label</th>\n",
              "    </tr>\n",
              "  </thead>\n",
              "  <tbody>\n",
              "    <tr>\n",
              "      <th>0</th>\n",
              "      <td>student</td>\n",
              "      <td>spend&gt;saving</td>\n",
              "      <td>0.079365</td>\n",
              "      <td>0.107558</td>\n",
              "      <td>0.219960</td>\n",
              "      <td>0.183167</td>\n",
              "      <td>0</td>\n",
              "    </tr>\n",
              "    <tr>\n",
              "      <th>1</th>\n",
              "      <td>student</td>\n",
              "      <td>spend&gt;saving</td>\n",
              "      <td>0.158730</td>\n",
              "      <td>0.052326</td>\n",
              "      <td>0.293102</td>\n",
              "      <td>0.112797</td>\n",
              "      <td>0</td>\n",
              "    </tr>\n",
              "    <tr>\n",
              "      <th>2</th>\n",
              "      <td>student</td>\n",
              "      <td>spend&gt;saving</td>\n",
              "      <td>0.095238</td>\n",
              "      <td>0.177326</td>\n",
              "      <td>0.346023</td>\n",
              "      <td>0.174200</td>\n",
              "      <td>0</td>\n",
              "    </tr>\n",
              "    <tr>\n",
              "      <th>3</th>\n",
              "      <td>student</td>\n",
              "      <td>spend&gt;saving</td>\n",
              "      <td>0.031746</td>\n",
              "      <td>0.127907</td>\n",
              "      <td>0.309882</td>\n",
              "      <td>0.189984</td>\n",
              "      <td>0</td>\n",
              "    </tr>\n",
              "    <tr>\n",
              "      <th>4</th>\n",
              "      <td>student</td>\n",
              "      <td>spend&gt;saving</td>\n",
              "      <td>0.222222</td>\n",
              "      <td>0.020349</td>\n",
              "      <td>0.363663</td>\n",
              "      <td>0.127311</td>\n",
              "      <td>0</td>\n",
              "    </tr>\n",
              "  </tbody>\n",
              "</table>\n",
              "</div>"
            ],
            "text/plain": [
              "      Type     LifeStyle  Vacation   eCredit    salary  property  label\n",
              "0  student  spend>saving  0.079365  0.107558  0.219960  0.183167      0\n",
              "1  student  spend>saving  0.158730  0.052326  0.293102  0.112797      0\n",
              "2  student  spend>saving  0.095238  0.177326  0.346023  0.174200      0\n",
              "3  student  spend>saving  0.031746  0.127907  0.309882  0.189984      0\n",
              "4  student  spend>saving  0.222222  0.020349  0.363663  0.127311      0"
            ]
          },
          "metadata": {
            "tags": []
          },
          "execution_count": 98
        }
      ]
    },
    {
      "cell_type": "code",
      "metadata": {
        "id": "COH4HtAFIHia",
        "colab_type": "code",
        "outputId": "72137cfb-1fa2-4847-e279-2dd6b8267da3",
        "colab": {
          "base_uri": "https://localhost:8080/",
          "height": 195
        }
      },
      "source": [
        "\n",
        "test_temp.head()"
      ],
      "execution_count": 99,
      "outputs": [
        {
          "output_type": "execute_result",
          "data": {
            "text/html": [
              "<div>\n",
              "<style scoped>\n",
              "    .dataframe tbody tr th:only-of-type {\n",
              "        vertical-align: middle;\n",
              "    }\n",
              "\n",
              "    .dataframe tbody tr th {\n",
              "        vertical-align: top;\n",
              "    }\n",
              "\n",
              "    .dataframe thead th {\n",
              "        text-align: right;\n",
              "    }\n",
              "</style>\n",
              "<table border=\"1\" class=\"dataframe\">\n",
              "  <thead>\n",
              "    <tr style=\"text-align: right;\">\n",
              "      <th></th>\n",
              "      <th>Type</th>\n",
              "      <th>LifeStyle</th>\n",
              "      <th>Vacation</th>\n",
              "      <th>eCredit</th>\n",
              "      <th>salary</th>\n",
              "      <th>property</th>\n",
              "      <th>label</th>\n",
              "    </tr>\n",
              "  </thead>\n",
              "  <tbody>\n",
              "    <tr>\n",
              "      <th>0</th>\n",
              "      <td>student</td>\n",
              "      <td>spend&lt;saving</td>\n",
              "      <td>0.20</td>\n",
              "      <td>0.058824</td>\n",
              "      <td>0.104637</td>\n",
              "      <td>0.398926</td>\n",
              "      <td>0</td>\n",
              "    </tr>\n",
              "    <tr>\n",
              "      <th>1</th>\n",
              "      <td>student</td>\n",
              "      <td>spend&gt;&gt;saving</td>\n",
              "      <td>0.54</td>\n",
              "      <td>0.021008</td>\n",
              "      <td>0.175059</td>\n",
              "      <td>0.243041</td>\n",
              "      <td>0</td>\n",
              "    </tr>\n",
              "    <tr>\n",
              "      <th>2</th>\n",
              "      <td>student</td>\n",
              "      <td>spend&lt;&lt;saving</td>\n",
              "      <td>0.52</td>\n",
              "      <td>0.231092</td>\n",
              "      <td>0.138339</td>\n",
              "      <td>0.085992</td>\n",
              "      <td>0</td>\n",
              "    </tr>\n",
              "    <tr>\n",
              "      <th>3</th>\n",
              "      <td>engineer</td>\n",
              "      <td>spend&gt;saving</td>\n",
              "      <td>0.26</td>\n",
              "      <td>0.151261</td>\n",
              "      <td>0.430086</td>\n",
              "      <td>0.116229</td>\n",
              "      <td>0</td>\n",
              "    </tr>\n",
              "    <tr>\n",
              "      <th>4</th>\n",
              "      <td>librarian</td>\n",
              "      <td>spend&lt;saving</td>\n",
              "      <td>0.00</td>\n",
              "      <td>0.016807</td>\n",
              "      <td>0.352657</td>\n",
              "      <td>0.025714</td>\n",
              "      <td>0</td>\n",
              "    </tr>\n",
              "  </tbody>\n",
              "</table>\n",
              "</div>"
            ],
            "text/plain": [
              "        Type      LifeStyle  Vacation   eCredit    salary  property  label\n",
              "0    student   spend<saving      0.20  0.058824  0.104637  0.398926      0\n",
              "1    student  spend>>saving      0.54  0.021008  0.175059  0.243041      0\n",
              "2    student  spend<<saving      0.52  0.231092  0.138339  0.085992      0\n",
              "3   engineer   spend>saving      0.26  0.151261  0.430086  0.116229      0\n",
              "4  librarian   spend<saving      0.00  0.016807  0.352657  0.025714      0"
            ]
          },
          "metadata": {
            "tags": []
          },
          "execution_count": 99
        }
      ]
    },
    {
      "cell_type": "code",
      "metadata": {
        "id": "BThbaPK_IHpo",
        "colab_type": "code",
        "outputId": "41408ae9-1da2-438d-f01d-729791f8969e",
        "colab": {
          "base_uri": "https://localhost:8080/",
          "height": 54
        }
      },
      "source": [
        "temp_dummy = pd.get_dummies(temp)\n",
        "test_dummy = pd.get_dummies(test_temp)\n",
        "print(list(test_dummy))"
      ],
      "execution_count": 100,
      "outputs": [
        {
          "output_type": "stream",
          "text": [
            "['Vacation', 'eCredit', 'salary', 'property', 'label', 'Type_doctor', 'Type_engineer', 'Type_librarian', 'Type_professor', 'Type_student', 'LifeStyle_spend<<saving', 'LifeStyle_spend<saving', 'LifeStyle_spend>>saving', 'LifeStyle_spend>saving']\n"
          ],
          "name": "stdout"
        }
      ]
    },
    {
      "cell_type": "code",
      "metadata": {
        "id": "R-Kurm_YIHwW",
        "colab_type": "code",
        "outputId": "3ea77a6b-a492-4211-8825-7fae10122309",
        "colab": {
          "base_uri": "https://localhost:8080/",
          "height": 215
        }
      },
      "source": [
        "temp_dummy.head()"
      ],
      "execution_count": 101,
      "outputs": [
        {
          "output_type": "execute_result",
          "data": {
            "text/html": [
              "<div>\n",
              "<style scoped>\n",
              "    .dataframe tbody tr th:only-of-type {\n",
              "        vertical-align: middle;\n",
              "    }\n",
              "\n",
              "    .dataframe tbody tr th {\n",
              "        vertical-align: top;\n",
              "    }\n",
              "\n",
              "    .dataframe thead th {\n",
              "        text-align: right;\n",
              "    }\n",
              "</style>\n",
              "<table border=\"1\" class=\"dataframe\">\n",
              "  <thead>\n",
              "    <tr style=\"text-align: right;\">\n",
              "      <th></th>\n",
              "      <th>Vacation</th>\n",
              "      <th>eCredit</th>\n",
              "      <th>salary</th>\n",
              "      <th>property</th>\n",
              "      <th>label</th>\n",
              "      <th>Type_doctor</th>\n",
              "      <th>Type_engineer</th>\n",
              "      <th>Type_librarian</th>\n",
              "      <th>Type_professor</th>\n",
              "      <th>Type_student</th>\n",
              "      <th>LifeStyle_spend&lt;&lt;saving</th>\n",
              "      <th>LifeStyle_spend&lt;saving</th>\n",
              "      <th>LifeStyle_spend&gt;&gt;saving</th>\n",
              "      <th>LifeStyle_spend&gt;saving</th>\n",
              "    </tr>\n",
              "  </thead>\n",
              "  <tbody>\n",
              "    <tr>\n",
              "      <th>0</th>\n",
              "      <td>0.079365</td>\n",
              "      <td>0.107558</td>\n",
              "      <td>0.219960</td>\n",
              "      <td>0.183167</td>\n",
              "      <td>0</td>\n",
              "      <td>0</td>\n",
              "      <td>0</td>\n",
              "      <td>0</td>\n",
              "      <td>0</td>\n",
              "      <td>1</td>\n",
              "      <td>0</td>\n",
              "      <td>0</td>\n",
              "      <td>0</td>\n",
              "      <td>1</td>\n",
              "    </tr>\n",
              "    <tr>\n",
              "      <th>1</th>\n",
              "      <td>0.158730</td>\n",
              "      <td>0.052326</td>\n",
              "      <td>0.293102</td>\n",
              "      <td>0.112797</td>\n",
              "      <td>0</td>\n",
              "      <td>0</td>\n",
              "      <td>0</td>\n",
              "      <td>0</td>\n",
              "      <td>0</td>\n",
              "      <td>1</td>\n",
              "      <td>0</td>\n",
              "      <td>0</td>\n",
              "      <td>0</td>\n",
              "      <td>1</td>\n",
              "    </tr>\n",
              "    <tr>\n",
              "      <th>2</th>\n",
              "      <td>0.095238</td>\n",
              "      <td>0.177326</td>\n",
              "      <td>0.346023</td>\n",
              "      <td>0.174200</td>\n",
              "      <td>0</td>\n",
              "      <td>0</td>\n",
              "      <td>0</td>\n",
              "      <td>0</td>\n",
              "      <td>0</td>\n",
              "      <td>1</td>\n",
              "      <td>0</td>\n",
              "      <td>0</td>\n",
              "      <td>0</td>\n",
              "      <td>1</td>\n",
              "    </tr>\n",
              "    <tr>\n",
              "      <th>3</th>\n",
              "      <td>0.031746</td>\n",
              "      <td>0.127907</td>\n",
              "      <td>0.309882</td>\n",
              "      <td>0.189984</td>\n",
              "      <td>0</td>\n",
              "      <td>0</td>\n",
              "      <td>0</td>\n",
              "      <td>0</td>\n",
              "      <td>0</td>\n",
              "      <td>1</td>\n",
              "      <td>0</td>\n",
              "      <td>0</td>\n",
              "      <td>0</td>\n",
              "      <td>1</td>\n",
              "    </tr>\n",
              "    <tr>\n",
              "      <th>4</th>\n",
              "      <td>0.222222</td>\n",
              "      <td>0.020349</td>\n",
              "      <td>0.363663</td>\n",
              "      <td>0.127311</td>\n",
              "      <td>0</td>\n",
              "      <td>0</td>\n",
              "      <td>0</td>\n",
              "      <td>0</td>\n",
              "      <td>0</td>\n",
              "      <td>1</td>\n",
              "      <td>0</td>\n",
              "      <td>0</td>\n",
              "      <td>0</td>\n",
              "      <td>1</td>\n",
              "    </tr>\n",
              "  </tbody>\n",
              "</table>\n",
              "</div>"
            ],
            "text/plain": [
              "   Vacation   eCredit  ...  LifeStyle_spend>>saving  LifeStyle_spend>saving\n",
              "0  0.079365  0.107558  ...                        0                       1\n",
              "1  0.158730  0.052326  ...                        0                       1\n",
              "2  0.095238  0.177326  ...                        0                       1\n",
              "3  0.031746  0.127907  ...                        0                       1\n",
              "4  0.222222  0.020349  ...                        0                       1\n",
              "\n",
              "[5 rows x 14 columns]"
            ]
          },
          "metadata": {
            "tags": []
          },
          "execution_count": 101
        }
      ]
    },
    {
      "cell_type": "code",
      "metadata": {
        "id": "hDqnXctCIH3o",
        "colab_type": "code",
        "outputId": "f64dcca8-3c8e-4ed0-d80e-7655ae9f3754",
        "colab": {
          "base_uri": "https://localhost:8080/",
          "height": 215
        }
      },
      "source": [
        "test_dummy.head()"
      ],
      "execution_count": 102,
      "outputs": [
        {
          "output_type": "execute_result",
          "data": {
            "text/html": [
              "<div>\n",
              "<style scoped>\n",
              "    .dataframe tbody tr th:only-of-type {\n",
              "        vertical-align: middle;\n",
              "    }\n",
              "\n",
              "    .dataframe tbody tr th {\n",
              "        vertical-align: top;\n",
              "    }\n",
              "\n",
              "    .dataframe thead th {\n",
              "        text-align: right;\n",
              "    }\n",
              "</style>\n",
              "<table border=\"1\" class=\"dataframe\">\n",
              "  <thead>\n",
              "    <tr style=\"text-align: right;\">\n",
              "      <th></th>\n",
              "      <th>Vacation</th>\n",
              "      <th>eCredit</th>\n",
              "      <th>salary</th>\n",
              "      <th>property</th>\n",
              "      <th>label</th>\n",
              "      <th>Type_doctor</th>\n",
              "      <th>Type_engineer</th>\n",
              "      <th>Type_librarian</th>\n",
              "      <th>Type_professor</th>\n",
              "      <th>Type_student</th>\n",
              "      <th>LifeStyle_spend&lt;&lt;saving</th>\n",
              "      <th>LifeStyle_spend&lt;saving</th>\n",
              "      <th>LifeStyle_spend&gt;&gt;saving</th>\n",
              "      <th>LifeStyle_spend&gt;saving</th>\n",
              "    </tr>\n",
              "  </thead>\n",
              "  <tbody>\n",
              "    <tr>\n",
              "      <th>0</th>\n",
              "      <td>0.20</td>\n",
              "      <td>0.058824</td>\n",
              "      <td>0.104637</td>\n",
              "      <td>0.398926</td>\n",
              "      <td>0</td>\n",
              "      <td>0</td>\n",
              "      <td>0</td>\n",
              "      <td>0</td>\n",
              "      <td>0</td>\n",
              "      <td>1</td>\n",
              "      <td>0</td>\n",
              "      <td>1</td>\n",
              "      <td>0</td>\n",
              "      <td>0</td>\n",
              "    </tr>\n",
              "    <tr>\n",
              "      <th>1</th>\n",
              "      <td>0.54</td>\n",
              "      <td>0.021008</td>\n",
              "      <td>0.175059</td>\n",
              "      <td>0.243041</td>\n",
              "      <td>0</td>\n",
              "      <td>0</td>\n",
              "      <td>0</td>\n",
              "      <td>0</td>\n",
              "      <td>0</td>\n",
              "      <td>1</td>\n",
              "      <td>0</td>\n",
              "      <td>0</td>\n",
              "      <td>1</td>\n",
              "      <td>0</td>\n",
              "    </tr>\n",
              "    <tr>\n",
              "      <th>2</th>\n",
              "      <td>0.52</td>\n",
              "      <td>0.231092</td>\n",
              "      <td>0.138339</td>\n",
              "      <td>0.085992</td>\n",
              "      <td>0</td>\n",
              "      <td>0</td>\n",
              "      <td>0</td>\n",
              "      <td>0</td>\n",
              "      <td>0</td>\n",
              "      <td>1</td>\n",
              "      <td>1</td>\n",
              "      <td>0</td>\n",
              "      <td>0</td>\n",
              "      <td>0</td>\n",
              "    </tr>\n",
              "    <tr>\n",
              "      <th>3</th>\n",
              "      <td>0.26</td>\n",
              "      <td>0.151261</td>\n",
              "      <td>0.430086</td>\n",
              "      <td>0.116229</td>\n",
              "      <td>0</td>\n",
              "      <td>0</td>\n",
              "      <td>1</td>\n",
              "      <td>0</td>\n",
              "      <td>0</td>\n",
              "      <td>0</td>\n",
              "      <td>0</td>\n",
              "      <td>0</td>\n",
              "      <td>0</td>\n",
              "      <td>1</td>\n",
              "    </tr>\n",
              "    <tr>\n",
              "      <th>4</th>\n",
              "      <td>0.00</td>\n",
              "      <td>0.016807</td>\n",
              "      <td>0.352657</td>\n",
              "      <td>0.025714</td>\n",
              "      <td>0</td>\n",
              "      <td>0</td>\n",
              "      <td>0</td>\n",
              "      <td>1</td>\n",
              "      <td>0</td>\n",
              "      <td>0</td>\n",
              "      <td>0</td>\n",
              "      <td>1</td>\n",
              "      <td>0</td>\n",
              "      <td>0</td>\n",
              "    </tr>\n",
              "  </tbody>\n",
              "</table>\n",
              "</div>"
            ],
            "text/plain": [
              "   Vacation   eCredit  ...  LifeStyle_spend>>saving  LifeStyle_spend>saving\n",
              "0      0.20  0.058824  ...                        0                       0\n",
              "1      0.54  0.021008  ...                        1                       0\n",
              "2      0.52  0.231092  ...                        0                       0\n",
              "3      0.26  0.151261  ...                        0                       1\n",
              "4      0.00  0.016807  ...                        0                       0\n",
              "\n",
              "[5 rows x 14 columns]"
            ]
          },
          "metadata": {
            "tags": []
          },
          "execution_count": 102
        }
      ]
    },
    {
      "cell_type": "code",
      "metadata": {
        "id": "xdqXaib5IH9O",
        "colab_type": "code",
        "outputId": "50331954-be44-43a0-98fa-0145112f1b9c",
        "colab": {
          "base_uri": "https://localhost:8080/",
          "height": 67
        }
      },
      "source": [
        "knnModel = KNeighborsClassifier(n_neighbors=3)\n",
        "temp_y = temp_dummy['label']\n",
        "temp_x = temp_dummy.drop(['label'],axis=1)\n",
        "test_data = test_dummy.drop(['label'],axis=1)\n",
        "knnModel.fit(temp_x,temp_y)"
      ],
      "execution_count": 103,
      "outputs": [
        {
          "output_type": "execute_result",
          "data": {
            "text/plain": [
              "KNeighborsClassifier(algorithm='auto', leaf_size=30, metric='minkowski',\n",
              "                     metric_params=None, n_jobs=None, n_neighbors=3, p=2,\n",
              "                     weights='uniform')"
            ]
          },
          "metadata": {
            "tags": []
          },
          "execution_count": 103
        }
      ]
    },
    {
      "cell_type": "code",
      "metadata": {
        "id": "nXbrilhCIWT5",
        "colab_type": "code",
        "outputId": "1a75e6ba-336f-4e14-9d64-c75830b32e89",
        "colab": {
          "base_uri": "https://localhost:8080/",
          "height": 118
        }
      },
      "source": [
        "predict=knnModel.predict(test_data)\n",
        "a=pd.Series(predict).value_counts()\n",
        "round((a/len(predict)),4)"
      ],
      "execution_count": 104,
      "outputs": [
        {
          "output_type": "execute_result",
          "data": {
            "text/plain": [
              "0    0.2857\n",
              "4    0.1905\n",
              "2    0.1905\n",
              "1    0.1905\n",
              "3    0.1429\n",
              "dtype: float64"
            ]
          },
          "metadata": {
            "tags": []
          },
          "execution_count": 104
        }
      ]
    },
    {
      "cell_type": "code",
      "metadata": {
        "id": "lJuxU1TFIWZU",
        "colab_type": "code",
        "outputId": "12ea335a-848d-47cb-a116-f1fc222f297b",
        "colab": {
          "base_uri": "https://localhost:8080/",
          "height": 106
        }
      },
      "source": [
        "pd.crosstab(index=test_dummy.label,columns=predict)"
      ],
      "execution_count": 105,
      "outputs": [
        {
          "output_type": "execute_result",
          "data": {
            "text/html": [
              "<div>\n",
              "<style scoped>\n",
              "    .dataframe tbody tr th:only-of-type {\n",
              "        vertical-align: middle;\n",
              "    }\n",
              "\n",
              "    .dataframe tbody tr th {\n",
              "        vertical-align: top;\n",
              "    }\n",
              "\n",
              "    .dataframe thead th {\n",
              "        text-align: right;\n",
              "    }\n",
              "</style>\n",
              "<table border=\"1\" class=\"dataframe\">\n",
              "  <thead>\n",
              "    <tr style=\"text-align: right;\">\n",
              "      <th>col_0</th>\n",
              "      <th>0</th>\n",
              "      <th>1</th>\n",
              "      <th>2</th>\n",
              "      <th>3</th>\n",
              "      <th>4</th>\n",
              "    </tr>\n",
              "    <tr>\n",
              "      <th>label</th>\n",
              "      <th></th>\n",
              "      <th></th>\n",
              "      <th></th>\n",
              "      <th></th>\n",
              "      <th></th>\n",
              "    </tr>\n",
              "  </thead>\n",
              "  <tbody>\n",
              "    <tr>\n",
              "      <th>0</th>\n",
              "      <td>6</td>\n",
              "      <td>4</td>\n",
              "      <td>4</td>\n",
              "      <td>3</td>\n",
              "      <td>4</td>\n",
              "    </tr>\n",
              "  </tbody>\n",
              "</table>\n",
              "</div>"
            ],
            "text/plain": [
              "col_0  0  1  2  3  4\n",
              "label               \n",
              "0      6  4  4  3  4"
            ]
          },
          "metadata": {
            "tags": []
          },
          "execution_count": 105
        }
      ]
    }
  ]
}